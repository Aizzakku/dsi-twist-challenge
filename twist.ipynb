{
 "cells": [
  {
   "cell_type": "code",
   "execution_count": 1,
   "metadata": {},
   "outputs": [],
   "source": [
    "# Problem Definition"
   ]
  },
  {
   "cell_type": "code",
   "execution_count": 2,
   "metadata": {},
   "outputs": [],
   "source": [
    "# Import all packages needed\n",
    "import pandas as pd, gc\n",
    "import numpy as np\n",
    "from sklearn.feature_selection import SelectKBest\n",
    "from sklearn.feature_selection import chi2"
   ]
  },
  {
   "cell_type": "code",
   "execution_count": 3,
   "metadata": {},
   "outputs": [
    {
     "data": {
      "text/html": [
       "<div>\n",
       "<style scoped>\n",
       "    .dataframe tbody tr th:only-of-type {\n",
       "        vertical-align: middle;\n",
       "    }\n",
       "\n",
       "    .dataframe tbody tr th {\n",
       "        vertical-align: top;\n",
       "    }\n",
       "\n",
       "    .dataframe thead th {\n",
       "        text-align: right;\n",
       "    }\n",
       "</style>\n",
       "<table border=\"1\" class=\"dataframe\">\n",
       "  <thead>\n",
       "    <tr style=\"text-align: right;\">\n",
       "      <th></th>\n",
       "      <th>id</th>\n",
       "      <th>location</th>\n",
       "      <th>bathrooms</th>\n",
       "      <th>bedrooms</th>\n",
       "      <th>parking</th>\n",
       "      <th>size</th>\n",
       "      <th>agent</th>\n",
       "      <th>price</th>\n",
       "    </tr>\n",
       "  </thead>\n",
       "  <tbody>\n",
       "    <tr>\n",
       "      <th>0</th>\n",
       "      <td>1</td>\n",
       "      <td>Constantia</td>\n",
       "      <td>3.0</td>\n",
       "      <td>5.0</td>\n",
       "      <td>4.0</td>\n",
       "      <td>2000.0</td>\n",
       "      <td>Seeff Southern Suburbs</td>\n",
       "      <td>13250000</td>\n",
       "    </tr>\n",
       "    <tr>\n",
       "      <th>1</th>\n",
       "      <td>2</td>\n",
       "      <td>Silvertree Estate</td>\n",
       "      <td>4.0</td>\n",
       "      <td>5.0</td>\n",
       "      <td>4.0</td>\n",
       "      <td>603.0</td>\n",
       "      <td>Stonehurst Properties</td>\n",
       "      <td>10495000</td>\n",
       "    </tr>\n",
       "    <tr>\n",
       "      <th>2</th>\n",
       "      <td>3</td>\n",
       "      <td>Rondebosch</td>\n",
       "      <td>3.0</td>\n",
       "      <td>5.0</td>\n",
       "      <td>2.0</td>\n",
       "      <td>936.0</td>\n",
       "      <td>Seeff Southern Suburbs</td>\n",
       "      <td>8700000</td>\n",
       "    </tr>\n",
       "    <tr>\n",
       "      <th>3</th>\n",
       "      <td>4</td>\n",
       "      <td>Constantia</td>\n",
       "      <td>5.0</td>\n",
       "      <td>7.0</td>\n",
       "      <td>8.0</td>\n",
       "      <td>2032.0</td>\n",
       "      <td>Seeff Southern Suburbs</td>\n",
       "      <td>11500000</td>\n",
       "    </tr>\n",
       "    <tr>\n",
       "      <th>4</th>\n",
       "      <td>5</td>\n",
       "      <td>Llandudno</td>\n",
       "      <td>4.0</td>\n",
       "      <td>4.0</td>\n",
       "      <td>4.0</td>\n",
       "      <td>991.0</td>\n",
       "      <td>Seeff Hout Bay and Llandudno</td>\n",
       "      <td>19800000</td>\n",
       "    </tr>\n",
       "  </tbody>\n",
       "</table>\n",
       "</div>"
      ],
      "text/plain": [
       "   id           location  bathrooms  bedrooms  parking    size  \\\n",
       "0   1         Constantia        3.0       5.0      4.0  2000.0   \n",
       "1   2  Silvertree Estate        4.0       5.0      4.0   603.0   \n",
       "2   3         Rondebosch        3.0       5.0      2.0   936.0   \n",
       "3   4         Constantia        5.0       7.0      8.0  2032.0   \n",
       "4   5          Llandudno        4.0       4.0      4.0   991.0   \n",
       "\n",
       "                          agent     price  \n",
       "0        Seeff Southern Suburbs  13250000  \n",
       "1         Stonehurst Properties  10495000  \n",
       "2        Seeff Southern Suburbs   8700000  \n",
       "3        Seeff Southern Suburbs  11500000  \n",
       "4  Seeff Hout Bay and Llandudno  19800000  "
      ]
     },
     "execution_count": 3,
     "metadata": {},
     "output_type": "execute_result"
    }
   ],
   "source": [
    "df_train = pd.read_csv(\"property24_train2.csv\")\n",
    "df_test = pd.read_csv(\"property24_test2.csv\")\n",
    "df_train.head()"
   ]
  },
  {
   "cell_type": "code",
   "execution_count": 4,
   "metadata": {},
   "outputs": [
    {
     "data": {
      "text/html": [
       "<div>\n",
       "<style scoped>\n",
       "    .dataframe tbody tr th:only-of-type {\n",
       "        vertical-align: middle;\n",
       "    }\n",
       "\n",
       "    .dataframe tbody tr th {\n",
       "        vertical-align: top;\n",
       "    }\n",
       "\n",
       "    .dataframe thead th {\n",
       "        text-align: right;\n",
       "    }\n",
       "</style>\n",
       "<table border=\"1\" class=\"dataframe\">\n",
       "  <thead>\n",
       "    <tr style=\"text-align: right;\">\n",
       "      <th></th>\n",
       "      <th>location</th>\n",
       "      <th>bathrooms</th>\n",
       "      <th>bedrooms</th>\n",
       "      <th>parking</th>\n",
       "      <th>size</th>\n",
       "      <th>agent</th>\n",
       "      <th>price</th>\n",
       "    </tr>\n",
       "  </thead>\n",
       "  <tbody>\n",
       "    <tr>\n",
       "      <th>0</th>\n",
       "      <td>Constantia</td>\n",
       "      <td>3.0</td>\n",
       "      <td>5.0</td>\n",
       "      <td>4.0</td>\n",
       "      <td>2000.0</td>\n",
       "      <td>Seeff Southern Suburbs</td>\n",
       "      <td>13250000</td>\n",
       "    </tr>\n",
       "    <tr>\n",
       "      <th>1</th>\n",
       "      <td>Silvertree Estate</td>\n",
       "      <td>4.0</td>\n",
       "      <td>5.0</td>\n",
       "      <td>4.0</td>\n",
       "      <td>603.0</td>\n",
       "      <td>Stonehurst Properties</td>\n",
       "      <td>10495000</td>\n",
       "    </tr>\n",
       "    <tr>\n",
       "      <th>2</th>\n",
       "      <td>Rondebosch</td>\n",
       "      <td>3.0</td>\n",
       "      <td>5.0</td>\n",
       "      <td>2.0</td>\n",
       "      <td>936.0</td>\n",
       "      <td>Seeff Southern Suburbs</td>\n",
       "      <td>8700000</td>\n",
       "    </tr>\n",
       "    <tr>\n",
       "      <th>3</th>\n",
       "      <td>Constantia</td>\n",
       "      <td>5.0</td>\n",
       "      <td>7.0</td>\n",
       "      <td>8.0</td>\n",
       "      <td>2032.0</td>\n",
       "      <td>Seeff Southern Suburbs</td>\n",
       "      <td>11500000</td>\n",
       "    </tr>\n",
       "    <tr>\n",
       "      <th>4</th>\n",
       "      <td>Llandudno</td>\n",
       "      <td>4.0</td>\n",
       "      <td>4.0</td>\n",
       "      <td>4.0</td>\n",
       "      <td>991.0</td>\n",
       "      <td>Seeff Hout Bay and Llandudno</td>\n",
       "      <td>19800000</td>\n",
       "    </tr>\n",
       "  </tbody>\n",
       "</table>\n",
       "</div>"
      ],
      "text/plain": [
       "            location  bathrooms  bedrooms  parking    size  \\\n",
       "0         Constantia        3.0       5.0      4.0  2000.0   \n",
       "1  Silvertree Estate        4.0       5.0      4.0   603.0   \n",
       "2         Rondebosch        3.0       5.0      2.0   936.0   \n",
       "3         Constantia        5.0       7.0      8.0  2032.0   \n",
       "4          Llandudno        4.0       4.0      4.0   991.0   \n",
       "\n",
       "                          agent     price  \n",
       "0        Seeff Southern Suburbs  13250000  \n",
       "1         Stonehurst Properties  10495000  \n",
       "2        Seeff Southern Suburbs   8700000  \n",
       "3        Seeff Southern Suburbs  11500000  \n",
       "4  Seeff Hout Bay and Llandudno  19800000  "
      ]
     },
     "execution_count": 4,
     "metadata": {},
     "output_type": "execute_result"
    }
   ],
   "source": [
    "# Drop irrelevant columns\n",
    "train = df_train.drop(['id'], axis=1)\n",
    "test = df_test.drop(['id'], axis=1)\n",
    "train.head()"
   ]
  },
  {
   "cell_type": "code",
   "execution_count": 5,
   "metadata": {},
   "outputs": [
    {
     "data": {
      "text/plain": [
       "location      object\n",
       "bathrooms    float64\n",
       "bedrooms     float64\n",
       "parking      float64\n",
       "size         float64\n",
       "agent         object\n",
       "price         object\n",
       "dtype: object"
      ]
     },
     "execution_count": 5,
     "metadata": {},
     "output_type": "execute_result"
    }
   ],
   "source": [
    "# Check column data types\n",
    "train.dtypes"
   ]
  },
  {
   "cell_type": "code",
   "execution_count": 6,
   "metadata": {},
   "outputs": [
    {
     "data": {
      "text/plain": [
       "location      object\n",
       "bathrooms    float64\n",
       "bedrooms     float64\n",
       "parking      float64\n",
       "size         float64\n",
       "agent         object\n",
       "price         object\n",
       "dtype: object"
      ]
     },
     "execution_count": 6,
     "metadata": {},
     "output_type": "execute_result"
    }
   ],
   "source": [
    "test.dtypes"
   ]
  },
  {
   "cell_type": "code",
   "execution_count": 7,
   "metadata": {},
   "outputs": [],
   "source": [
    "# Function to assist in converting categorical columns to numerical representation\n",
    "# LABEL ENCODE\n",
    "def encode_LE(train,test,cols,verbose=True):\n",
    "    for col in cols:\n",
    "        df_comb = pd.concat([train[col],test[col]],axis=0)\n",
    "        df_comb,_ = df_comb.factorize(sort=True)\n",
    "        nm = col\n",
    "        if df_comb.max()>32000: \n",
    "            train[nm] = df_comb[:len(train)].astype('int32')\n",
    "            test[nm] = df_comb[len(train):].astype('int32')\n",
    "        else:\n",
    "            train[nm] = df_comb[:len(train)].astype('int16')\n",
    "            test[nm] = df_comb[len(train):].astype('int16')\n",
    "        del df_comb; x=gc.collect()\n",
    "        if verbose: print(nm,', ',end='')"
   ]
  },
  {
   "cell_type": "code",
   "execution_count": 8,
   "metadata": {},
   "outputs": [
    {
     "name": "stdout",
     "output_type": "stream",
     "text": [
      "location , agent , "
     ]
    },
    {
     "data": {
      "text/html": [
       "<div>\n",
       "<style scoped>\n",
       "    .dataframe tbody tr th:only-of-type {\n",
       "        vertical-align: middle;\n",
       "    }\n",
       "\n",
       "    .dataframe tbody tr th {\n",
       "        vertical-align: top;\n",
       "    }\n",
       "\n",
       "    .dataframe thead th {\n",
       "        text-align: right;\n",
       "    }\n",
       "</style>\n",
       "<table border=\"1\" class=\"dataframe\">\n",
       "  <thead>\n",
       "    <tr style=\"text-align: right;\">\n",
       "      <th></th>\n",
       "      <th>location</th>\n",
       "      <th>bathrooms</th>\n",
       "      <th>bedrooms</th>\n",
       "      <th>parking</th>\n",
       "      <th>size</th>\n",
       "      <th>agent</th>\n",
       "      <th>price</th>\n",
       "    </tr>\n",
       "  </thead>\n",
       "  <tbody>\n",
       "    <tr>\n",
       "      <th>0</th>\n",
       "      <td>26</td>\n",
       "      <td>3.0</td>\n",
       "      <td>5.0</td>\n",
       "      <td>4.0</td>\n",
       "      <td>2000.0</td>\n",
       "      <td>192</td>\n",
       "      <td>13250000</td>\n",
       "    </tr>\n",
       "    <tr>\n",
       "      <th>1</th>\n",
       "      <td>110</td>\n",
       "      <td>4.0</td>\n",
       "      <td>5.0</td>\n",
       "      <td>4.0</td>\n",
       "      <td>603.0</td>\n",
       "      <td>204</td>\n",
       "      <td>10495000</td>\n",
       "    </tr>\n",
       "    <tr>\n",
       "      <th>2</th>\n",
       "      <td>100</td>\n",
       "      <td>3.0</td>\n",
       "      <td>5.0</td>\n",
       "      <td>2.0</td>\n",
       "      <td>936.0</td>\n",
       "      <td>192</td>\n",
       "      <td>8700000</td>\n",
       "    </tr>\n",
       "    <tr>\n",
       "      <th>3</th>\n",
       "      <td>26</td>\n",
       "      <td>5.0</td>\n",
       "      <td>7.0</td>\n",
       "      <td>8.0</td>\n",
       "      <td>2032.0</td>\n",
       "      <td>192</td>\n",
       "      <td>11500000</td>\n",
       "    </tr>\n",
       "    <tr>\n",
       "      <th>4</th>\n",
       "      <td>66</td>\n",
       "      <td>4.0</td>\n",
       "      <td>4.0</td>\n",
       "      <td>4.0</td>\n",
       "      <td>991.0</td>\n",
       "      <td>189</td>\n",
       "      <td>19800000</td>\n",
       "    </tr>\n",
       "  </tbody>\n",
       "</table>\n",
       "</div>"
      ],
      "text/plain": [
       "   location  bathrooms  bedrooms  parking    size  agent     price\n",
       "0        26        3.0       5.0      4.0  2000.0    192  13250000\n",
       "1       110        4.0       5.0      4.0   603.0    204  10495000\n",
       "2       100        3.0       5.0      2.0   936.0    192   8700000\n",
       "3        26        5.0       7.0      8.0  2032.0    192  11500000\n",
       "4        66        4.0       4.0      4.0   991.0    189  19800000"
      ]
     },
     "execution_count": 8,
     "metadata": {},
     "output_type": "execute_result"
    }
   ],
   "source": [
    "encode_LE(train, test, ['location', 'agent'])\n",
    "train.head()"
   ]
  },
  {
   "cell_type": "code",
   "execution_count": 9,
   "metadata": {},
   "outputs": [
    {
     "data": {
      "text/plain": [
       "location       int16\n",
       "bathrooms    float64\n",
       "bedrooms     float64\n",
       "parking      float64\n",
       "size         float64\n",
       "agent          int16\n",
       "price         object\n",
       "dtype: object"
      ]
     },
     "execution_count": 9,
     "metadata": {},
     "output_type": "execute_result"
    }
   ],
   "source": [
    "# Check column data types\n",
    "train.dtypes"
   ]
  },
  {
   "cell_type": "code",
   "execution_count": 10,
   "metadata": {},
   "outputs": [
    {
     "data": {
      "text/plain": [
       "location       int16\n",
       "bathrooms    float64\n",
       "bedrooms     float64\n",
       "parking      float64\n",
       "size         float64\n",
       "agent          int16\n",
       "price         object\n",
       "dtype: object"
      ]
     },
     "execution_count": 10,
     "metadata": {},
     "output_type": "execute_result"
    }
   ],
   "source": [
    "test.dtypes"
   ]
  },
  {
   "cell_type": "code",
   "execution_count": 11,
   "metadata": {},
   "outputs": [
    {
     "data": {
      "text/plain": [
       "location       int16\n",
       "bathrooms    float64\n",
       "bedrooms     float64\n",
       "parking      float64\n",
       "size         float64\n",
       "agent          int16\n",
       "price         object\n",
       "dtype: object"
      ]
     },
     "execution_count": 11,
     "metadata": {},
     "output_type": "execute_result"
    }
   ],
   "source": [
    "# remove POA values from price\n",
    "train = train[train['price'].map(lambda x: x!='POA')]\n",
    "test = test[test['price'].map(lambda x: x!='POA')]\n",
    "train.dtypes"
   ]
  },
  {
   "cell_type": "code",
   "execution_count": 12,
   "metadata": {},
   "outputs": [
    {
     "data": {
      "text/plain": [
       "location       int16\n",
       "bathrooms    float64\n",
       "bedrooms     float64\n",
       "parking      float64\n",
       "size         float64\n",
       "agent          int16\n",
       "price          int16\n",
       "dtype: object"
      ]
     },
     "execution_count": 12,
     "metadata": {},
     "output_type": "execute_result"
    }
   ],
   "source": [
    "# Convert price to int\n",
    "train['price'] = train['price'].astype('int16')\n",
    "test['price'] = test['price'].astype('int16')\n",
    "train.dtypes"
   ]
  },
  {
   "cell_type": "code",
   "execution_count": 13,
   "metadata": {},
   "outputs": [
    {
     "data": {
      "text/plain": [
       "location       int16\n",
       "bathrooms    float64\n",
       "bedrooms     float64\n",
       "parking      float64\n",
       "size         float64\n",
       "agent          int16\n",
       "price          int16\n",
       "dtype: object"
      ]
     },
     "execution_count": 13,
     "metadata": {},
     "output_type": "execute_result"
    }
   ],
   "source": [
    "test.dtypes"
   ]
  },
  {
   "cell_type": "code",
   "execution_count": 14,
   "metadata": {},
   "outputs": [
    {
     "data": {
      "text/plain": [
       "location       0\n",
       "bathrooms     24\n",
       "bedrooms      20\n",
       "parking      295\n",
       "size         203\n",
       "agent          0\n",
       "price          0\n",
       "dtype: int64"
      ]
     },
     "execution_count": 14,
     "metadata": {},
     "output_type": "execute_result"
    }
   ],
   "source": [
    "# Finding Null values\n",
    "train.isnull().sum()"
   ]
  },
  {
   "cell_type": "code",
   "execution_count": 15,
   "metadata": {},
   "outputs": [
    {
     "data": {
      "text/plain": [
       "location       0\n",
       "bathrooms     14\n",
       "bedrooms      20\n",
       "parking      177\n",
       "size         134\n",
       "agent          0\n",
       "price          0\n",
       "dtype: int64"
      ]
     },
     "execution_count": 15,
     "metadata": {},
     "output_type": "execute_result"
    }
   ],
   "source": [
    "test.isnull().sum()"
   ]
  },
  {
   "cell_type": "code",
   "execution_count": 16,
   "metadata": {},
   "outputs": [],
   "source": [
    "#Filling null values with mean of relevant column for both train and test\n",
    "train.fillna(round(train['bathrooms'].mean()), inplace=True)\n",
    "train.fillna(round(train['bedrooms'].mean()), inplace=True)\n",
    "train.fillna(round(train['parking'].mean()), inplace=True)\n",
    "train.fillna(round(train['size'].mean()), inplace=True)\n",
    "train.fillna(round(train['agent'].mean()), inplace=True)\n",
    "\n",
    "test.fillna(round(train['bathrooms'].mean()),inplace=True)\n",
    "test.fillna(round(train['bedrooms'].mean()),inplace=True)\n",
    "test.fillna(round(train['parking'].mean()),inplace=True)\n",
    "test.fillna(round(train['size'].mean()),inplace=True)\n",
    "test.fillna(round(train['agent'].mean()),inplace=True)"
   ]
  },
  {
   "cell_type": "code",
   "execution_count": 17,
   "metadata": {},
   "outputs": [
    {
     "data": {
      "text/plain": [
       "location     0\n",
       "bathrooms    0\n",
       "bedrooms     0\n",
       "parking      0\n",
       "size         0\n",
       "agent        0\n",
       "price        0\n",
       "dtype: int64"
      ]
     },
     "execution_count": 17,
     "metadata": {},
     "output_type": "execute_result"
    }
   ],
   "source": [
    "train.isnull().sum()"
   ]
  },
  {
   "cell_type": "code",
   "execution_count": 18,
   "metadata": {},
   "outputs": [
    {
     "data": {
      "text/plain": [
       "location     0\n",
       "bathrooms    0\n",
       "bedrooms     0\n",
       "parking      0\n",
       "size         0\n",
       "agent        0\n",
       "price        0\n",
       "dtype: int64"
      ]
     },
     "execution_count": 18,
     "metadata": {},
     "output_type": "execute_result"
    }
   ],
   "source": [
    "test.isnull().sum()"
   ]
  },
  {
   "cell_type": "code",
   "execution_count": 19,
   "metadata": {},
   "outputs": [],
   "source": [
    "# Append train and test data\n",
    "train = train.append(test, ignore_index = True)"
   ]
  },
  {
   "cell_type": "code",
   "execution_count": 20,
   "metadata": {},
   "outputs": [
    {
     "data": {
      "text/plain": [
       "(3101, 7)"
      ]
     },
     "execution_count": 20,
     "metadata": {},
     "output_type": "execute_result"
    }
   ],
   "source": [
    "train.shape"
   ]
  },
  {
   "cell_type": "code",
   "execution_count": 21,
   "metadata": {},
   "outputs": [],
   "source": [
    "X = train.drop(['price'], axis=1)  #independent columns\n",
    "y = train[\"price\"] #target column i.e price range"
   ]
  },
  {
   "cell_type": "code",
   "execution_count": 22,
   "metadata": {},
   "outputs": [],
   "source": [
    "SEED = 222\n",
    "from sklearn.model_selection import train_test_split\n",
    "# split into train-test sets\n",
    "xtrain, xtest, ytrain, ytest = train_test_split(X, y, test_size=0.25, random_state=SEED)"
   ]
  },
  {
   "cell_type": "code",
   "execution_count": 23,
   "metadata": {},
   "outputs": [],
   "source": [
    "# remove negative values\n",
    "X['agent'] = X['agent'].apply(lambda x: 1 if x < 0 else x)\n",
    "test['agent'] = test['agent'].apply(lambda x: 1 if x < 0 else x)"
   ]
  },
  {
   "cell_type": "code",
   "execution_count": 24,
   "metadata": {},
   "outputs": [
    {
     "name": "stdout",
     "output_type": "stream",
     "text": [
      "       Specs         Score\n",
      "4       size  1.265028e+11\n",
      "0   location  2.889753e+04\n",
      "5      agent  2.450772e+04\n",
      "3    parking  2.529836e+03\n",
      "1  bathrooms  2.135385e+03\n"
     ]
    }
   ],
   "source": [
    "# 1. UNIVARIATE SELECTION\n",
    "\n",
    "#apply SelectKBest class to extract top 5 best features\n",
    "bestfeatures = SelectKBest(score_func=chi2, k=5)\n",
    "fit = bestfeatures.fit(X,y)\n",
    "dfscores = pd.DataFrame(fit.scores_)\n",
    "dfcolumns = pd.DataFrame(X.columns)\n",
    "\n",
    "#concat two dataframes for better visualization \n",
    "featureScores = pd.concat([dfcolumns,dfscores],axis=1)\n",
    "featureScores.columns = ['Specs','Score']  #naming the dataframe columns\n",
    "print(featureScores.nlargest(5,'Score'))  #print 10 best features"
   ]
  },
  {
   "cell_type": "code",
   "execution_count": 25,
   "metadata": {},
   "outputs": [
    {
     "name": "stderr",
     "output_type": "stream",
     "text": [
      "/Users/isaac/opt/anaconda3/lib/python3.7/site-packages/sklearn/ensemble/forest.py:245: FutureWarning: The default value of n_estimators will change from 10 in version 0.20 to 100 in 0.22.\n",
      "  \"10 in version 0.20 to 100 in 0.22.\", FutureWarning)\n"
     ]
    },
    {
     "name": "stdout",
     "output_type": "stream",
     "text": [
      "[0.17471395 0.10560614 0.0995281  0.13876688 0.27511914 0.20626579]\n"
     ]
    }
   ],
   "source": [
    "# 2. FEATURE IMPORTANCE\n",
    "from sklearn.ensemble import ExtraTreesClassifier\n",
    "import matplotlib.pyplot as plt\n",
    "model = ExtraTreesClassifier()\n",
    "model.fit(X,y)\n",
    "\n",
    "print(model.feature_importances_)"
   ]
  },
  {
   "cell_type": "code",
   "execution_count": 26,
   "metadata": {},
   "outputs": [
    {
     "data": {
      "image/png": "[encoded data removed]",
      "text/plain": [
       "<Figure size 432x288 with 1 Axes>"
      ]
     },
     "metadata": {
      "needs_background": "light"
     },
     "output_type": "display_data"
    }
   ],
   "source": [
    "#use inbuilt class feature_importances of tree based classifiers\n",
    "#plot graph of feature importances for better visualization\n",
    "feat_importances = pd.Series(model.feature_importances_, index=X.columns)\n",
    "feat_importances.nlargest(5).plot(kind='barh')\n",
    "plt.show()"
   ]
  },
  {
   "cell_type": "code",
   "execution_count": 27,
   "metadata": {},
   "outputs": [
    {
     "data": {
      "image/png": "[encoded data removed]",
      "text/plain": [
       "<Figure size 648x648 with 2 Axes>"
      ]
     },
     "metadata": {
      "needs_background": "light"
     },
     "output_type": "display_data"
    }
   ],
   "source": [
    "# 3. Correlation Matrix with Heatmap\n",
    "# Correlation states how the features are related to each other or the target variable.\n",
    "import seaborn as sns\n",
    "\n",
    "#get correlations of each features in dataset\n",
    "corrmat = train.corr()\n",
    "top_corr_features = corrmat.index\n",
    "plt.figure(figsize=(9,9))\n",
    "\n",
    "#plot heat map\n",
    "g=sns.heatmap(train[top_corr_features].corr(),annot=True,cmap=\"RdYlGn\")"
   ]
  },
  {
   "cell_type": "code",
   "execution_count": 28,
   "metadata": {},
   "outputs": [],
   "source": [
    "SEED = 222\n",
    "from sklearn.model_selection import train_test_split\n",
    "# split into train-test sets\n",
    "xtrain, xtest, ytrain, ytest = train_test_split(X, y, test_size=0.25, random_state=SEED)"
   ]
  },
  {
   "cell_type": "code",
   "execution_count": 29,
   "metadata": {},
   "outputs": [],
   "source": [
    "# A host of Scikit-learn models\n",
    "from sklearn.svm import SVC, LinearSVC\n",
    "from sklearn.naive_bayes import GaussianNB\n",
    "from sklearn.ensemble import RandomForestClassifier\n",
    "from sklearn.linear_model import LogisticRegression\n",
    "from sklearn.neighbors import KNeighborsClassifier\n",
    "from catboost import CatBoostClassifier\n",
    "from sklearn.neural_network import MLPClassifier\n",
    "from sklearn.kernel_approximation import Nystroem\n",
    "from sklearn.kernel_approximation import RBFSampler\n",
    "from sklearn.pipeline import make_pipeline\n",
    "from sklearn.metrics import roc_auc_score\n",
    "\n",
    "def get_models():\n",
    "    \"\"\"Generate a library of base learners.\"\"\"\n",
    "    nb = GaussianNB()\n",
    "    svc = SVC(C=100, probability=True)\n",
    "    knn = KNeighborsClassifier(n_neighbors=3)\n",
    "    lr = LogisticRegression(C=100, random_state=SEED)\n",
    "    nn = MLPClassifier((80, 10), early_stopping=False, random_state=SEED)\n",
    "    rf = RandomForestClassifier(n_estimators=10, max_features=3, random_state=SEED)\n",
    "    cb = CatBoostClassifier(n_estimators=20)\n",
    "\n",
    "    models = {'svm': svc,\n",
    "              'knn': knn,\n",
    "              'naive bayes': nb,\n",
    "              'mlp-nn': nn,\n",
    "              'random forest': rf,\n",
    "              'logistic': lr,\n",
    "              'catboost': cb\n",
    "              }\n",
    "\n",
    "    return models\n",
    "\n",
    "\n",
    "def train_predict(model_list):\n",
    "    \"\"\"Fit models in list on training set and return preds\"\"\"\n",
    "    P = np.zeros((ytest.shape[0], len(model_list)))\n",
    "    P = pd.DataFrame(P)\n",
    "\n",
    "    print(\"Fitting models.\")\n",
    "    cols = list()\n",
    "    for i, (name, m) in enumerate(models.items()):\n",
    "        print(\"%s...\" % name, end=\" \", flush=False)\n",
    "        m.fit(xtrain, ytrain)\n",
    "        P.iloc[:, i] = m.predict(xtest)\n",
    "        cols.append(name)\n",
    "        print(\"done\")\n",
    "\n",
    "    P.columns = cols\n",
    "    print(\"Done.\\n\")\n",
    "    return P\n",
    "\n",
    "\n",
    "def score_models(P, y):\n",
    "    \"\"\"Score model in prediction DF\"\"\"\n",
    "    print(\"Scoring models.\")\n",
    "    for m in P.columns:\n",
    "        score = roc_auc_score(y, P.loc[:, m])\n",
    "        print(\"%-26s: %.3f\" % (m, score))\n",
    "    print(\"Done.\\n\")"
   ]
  },
  {
   "cell_type": "code",
   "execution_count": 30,
   "metadata": {},
   "outputs": [
    {
     "name": "stdout",
     "output_type": "stream",
     "text": [
      "Fitting models.\n",
      "svm... "
     ]
    },
    {
     "name": "stderr",
     "output_type": "stream",
     "text": [
      "/Users/isaac/opt/anaconda3/lib/python3.7/site-packages/sklearn/svm/base.py:193: FutureWarning: The default value of gamma will change from 'auto' to 'scale' in version 0.22 to account better for unscaled features. Set gamma explicitly to 'auto' or 'scale' to avoid this warning.\n",
      "  \"avoid this warning.\", FutureWarning)\n"
     ]
    },
    {
     "name": "stdout",
     "output_type": "stream",
     "text": [
      "done\n",
      "knn... done\n",
      "naive bayes... done\n",
      "mlp-nn... "
     ]
    },
    {
     "name": "stderr",
     "output_type": "stream",
     "text": [
      "/Users/isaac/opt/anaconda3/lib/python3.7/site-packages/sklearn/neural_network/multilayer_perceptron.py:566: ConvergenceWarning: Stochastic Optimizer: Maximum iterations (200) reached and the optimization hasn't converged yet.\n",
      "  % self.max_iter, ConvergenceWarning)\n"
     ]
    },
    {
     "name": "stdout",
     "output_type": "stream",
     "text": [
      "done\n",
      "random forest... done\n",
      "logistic... "
     ]
    },
    {
     "name": "stderr",
     "output_type": "stream",
     "text": [
      "/Users/isaac/opt/anaconda3/lib/python3.7/site-packages/sklearn/linear_model/logistic.py:432: FutureWarning: Default solver will be changed to 'lbfgs' in 0.22. Specify a solver to silence this warning.\n",
      "  FutureWarning)\n",
      "/Users/isaac/opt/anaconda3/lib/python3.7/site-packages/sklearn/linear_model/logistic.py:469: FutureWarning: Default multi_class will be changed to 'auto' in 0.22. Specify the multi_class option to silence this warning.\n",
      "  \"this warning.\", FutureWarning)\n",
      "/Users/isaac/opt/anaconda3/lib/python3.7/site-packages/sklearn/svm/base.py:929: ConvergenceWarning: Liblinear failed to converge, increase the number of iterations.\n",
      "  \"the number of iterations.\", ConvergenceWarning)\n"
     ]
    },
    {
     "name": "stdout",
     "output_type": "stream",
     "text": [
      "done\n",
      "catboost... Learning rate set to 0.5\n",
      "0:\tlearn: 6.2337091\ttotal: 5.6s\tremaining: 1m 46s\n",
      "1:\tlearn: 5.9890320\ttotal: 10.3s\tremaining: 1m 33s\n",
      "2:\tlearn: 5.7882084\ttotal: 15.6s\tremaining: 1m 28s\n",
      "3:\tlearn: 5.5981689\ttotal: 21.2s\tremaining: 1m 24s\n",
      "4:\tlearn: 5.4143489\ttotal: 25.9s\tremaining: 1m 17s\n",
      "5:\tlearn: 5.2332735\ttotal: 31.5s\tremaining: 1m 13s\n",
      "6:\tlearn: 5.0816996\ttotal: 38.8s\tremaining: 1m 12s\n",
      "7:\tlearn: 4.9357325\ttotal: 45.4s\tremaining: 1m 8s\n",
      "8:\tlearn: 4.8015547\ttotal: 51.1s\tremaining: 1m 2s\n",
      "9:\tlearn: 4.6941767\ttotal: 56.4s\tremaining: 56.4s\n",
      "10:\tlearn: 4.5915888\ttotal: 1m 2s\tremaining: 50.9s\n",
      "11:\tlearn: 4.4763419\ttotal: 1m 8s\tremaining: 45.9s\n",
      "12:\tlearn: 4.3607610\ttotal: 1m 14s\tremaining: 40.1s\n",
      "13:\tlearn: 4.2566972\ttotal: 1m 20s\tremaining: 34.5s\n",
      "14:\tlearn: 4.1747830\ttotal: 1m 25s\tremaining: 28.5s\n",
      "15:\tlearn: 4.0906146\ttotal: 1m 30s\tremaining: 22.7s\n",
      "16:\tlearn: 4.0201448\ttotal: 1m 35s\tremaining: 16.9s\n",
      "17:\tlearn: 3.9260054\ttotal: 1m 41s\tremaining: 11.3s\n",
      "18:\tlearn: 3.8367567\ttotal: 1m 46s\tremaining: 5.63s\n",
      "19:\tlearn: 3.7547656\ttotal: 1m 52s\tremaining: 0us\n",
      "done\n",
      "Done.\n",
      "\n"
     ]
    }
   ],
   "source": [
    "models = get_models()\n",
    "P = train_predict(models)"
   ]
  },
  {
   "cell_type": "code",
   "execution_count": 31,
   "metadata": {},
   "outputs": [
    {
     "data": {
      "text/html": [
       "<div>\n",
       "<style scoped>\n",
       "    .dataframe tbody tr th:only-of-type {\n",
       "        vertical-align: middle;\n",
       "    }\n",
       "\n",
       "    .dataframe tbody tr th {\n",
       "        vertical-align: top;\n",
       "    }\n",
       "\n",
       "    .dataframe thead th {\n",
       "        text-align: right;\n",
       "    }\n",
       "</style>\n",
       "<table border=\"1\" class=\"dataframe\">\n",
       "  <thead>\n",
       "    <tr style=\"text-align: right;\">\n",
       "      <th></th>\n",
       "      <th>svm</th>\n",
       "      <th>knn</th>\n",
       "      <th>naive bayes</th>\n",
       "      <th>mlp-nn</th>\n",
       "      <th>random forest</th>\n",
       "      <th>logistic</th>\n",
       "      <th>catboost</th>\n",
       "    </tr>\n",
       "  </thead>\n",
       "  <tbody>\n",
       "    <tr>\n",
       "      <th>0</th>\n",
       "      <td>-3936</td>\n",
       "      <td>-29752</td>\n",
       "      <td>31600</td>\n",
       "      <td>-21984</td>\n",
       "      <td>-3936</td>\n",
       "      <td>31224</td>\n",
       "      <td>28896</td>\n",
       "    </tr>\n",
       "    <tr>\n",
       "      <th>1</th>\n",
       "      <td>-19656</td>\n",
       "      <td>8800</td>\n",
       "      <td>21024</td>\n",
       "      <td>21024</td>\n",
       "      <td>29920</td>\n",
       "      <td>-12352</td>\n",
       "      <td>29920</td>\n",
       "    </tr>\n",
       "    <tr>\n",
       "      <th>2</th>\n",
       "      <td>-19656</td>\n",
       "      <td>-1088</td>\n",
       "      <td>28920</td>\n",
       "      <td>-26800</td>\n",
       "      <td>-29752</td>\n",
       "      <td>-19656</td>\n",
       "      <td>-26256</td>\n",
       "    </tr>\n",
       "    <tr>\n",
       "      <th>3</th>\n",
       "      <td>-19656</td>\n",
       "      <td>-32160</td>\n",
       "      <td>3608</td>\n",
       "      <td>-28432</td>\n",
       "      <td>-32160</td>\n",
       "      <td>-6568</td>\n",
       "      <td>-7872</td>\n",
       "    </tr>\n",
       "    <tr>\n",
       "      <th>4</th>\n",
       "      <td>3184</td>\n",
       "      <td>-6864</td>\n",
       "      <td>3608</td>\n",
       "      <td>-25120</td>\n",
       "      <td>3184</td>\n",
       "      <td>20144</td>\n",
       "      <td>-20488</td>\n",
       "    </tr>\n",
       "    <tr>\n",
       "      <th>...</th>\n",
       "      <td>...</td>\n",
       "      <td>...</td>\n",
       "      <td>...</td>\n",
       "      <td>...</td>\n",
       "      <td>...</td>\n",
       "      <td>...</td>\n",
       "      <td>...</td>\n",
       "    </tr>\n",
       "    <tr>\n",
       "      <th>771</th>\n",
       "      <td>-19656</td>\n",
       "      <td>-17376</td>\n",
       "      <td>-26960</td>\n",
       "      <td>-20544</td>\n",
       "      <td>-32448</td>\n",
       "      <td>-26960</td>\n",
       "      <td>-26960</td>\n",
       "    </tr>\n",
       "    <tr>\n",
       "      <th>772</th>\n",
       "      <td>-19656</td>\n",
       "      <td>-26984</td>\n",
       "      <td>11600</td>\n",
       "      <td>-26984</td>\n",
       "      <td>-18048</td>\n",
       "      <td>-10592</td>\n",
       "      <td>-30736</td>\n",
       "    </tr>\n",
       "    <tr>\n",
       "      <th>773</th>\n",
       "      <td>-19656</td>\n",
       "      <td>-24704</td>\n",
       "      <td>-11749</td>\n",
       "      <td>26592</td>\n",
       "      <td>-6864</td>\n",
       "      <td>-30376</td>\n",
       "      <td>14264</td>\n",
       "    </tr>\n",
       "    <tr>\n",
       "      <th>774</th>\n",
       "      <td>28896</td>\n",
       "      <td>-15200</td>\n",
       "      <td>-29288</td>\n",
       "      <td>-21984</td>\n",
       "      <td>-25912</td>\n",
       "      <td>31224</td>\n",
       "      <td>8208</td>\n",
       "    </tr>\n",
       "    <tr>\n",
       "      <th>775</th>\n",
       "      <td>-19656</td>\n",
       "      <td>4632</td>\n",
       "      <td>11960</td>\n",
       "      <td>-24832</td>\n",
       "      <td>-26256</td>\n",
       "      <td>-19656</td>\n",
       "      <td>8208</td>\n",
       "    </tr>\n",
       "  </tbody>\n",
       "</table>\n",
       "<p>776 rows × 7 columns</p>\n",
       "</div>"
      ],
      "text/plain": [
       "       svm    knn  naive bayes  mlp-nn  random forest  logistic  catboost\n",
       "0    -3936 -29752        31600  -21984          -3936     31224     28896\n",
       "1   -19656   8800        21024   21024          29920    -12352     29920\n",
       "2   -19656  -1088        28920  -26800         -29752    -19656    -26256\n",
       "3   -19656 -32160         3608  -28432         -32160     -6568     -7872\n",
       "4     3184  -6864         3608  -25120           3184     20144    -20488\n",
       "..     ...    ...          ...     ...            ...       ...       ...\n",
       "771 -19656 -17376       -26960  -20544         -32448    -26960    -26960\n",
       "772 -19656 -26984        11600  -26984         -18048    -10592    -30736\n",
       "773 -19656 -24704       -11749   26592          -6864    -30376     14264\n",
       "774  28896 -15200       -29288  -21984         -25912     31224      8208\n",
       "775 -19656   4632        11960  -24832         -26256    -19656      8208\n",
       "\n",
       "[776 rows x 7 columns]"
      ]
     },
     "execution_count": 31,
     "metadata": {},
     "output_type": "execute_result"
    }
   ],
   "source": [
    "P"
   ]
  },
  {
   "cell_type": "code",
   "execution_count": 34,
   "metadata": {},
   "outputs": [
    {
     "name": "stdout",
     "output_type": "stream",
     "text": [
      "Score for SVM: 15406.335083365151\n",
      "Score for SVM: 13484.56446480845\n",
      "Score for SVM: 2095.8633702430952\n",
      "Score for SVM: 7972.863370243096\n",
      "Score for SVM: 4711.786114292987\n",
      "Score for SVM: 1508.899516354843\n",
      "Score for SVM: 215.1108565610284\n"
     ]
    }
   ],
   "source": [
    "# Average difference in prediction\n",
    "print(f\"Score for SVM: {abs(test['price'].mean() - P['svm'].mean())}\")\n",
    "print(f\"Score for knn: {abs(test['price'].mean() - P['knn'].mean())}\")\n",
    "print(f\"Score for naic: {abs(test['price'].mean() - P['naive bayes'].mean())}\")\n",
    "print(f\"Score for ml: {abs(test['price'].mean() - P['mlp-nn'].mean())}\")\n",
    "print(f\"Score for rf: {abs(test['price'].mean() - P['random forest'].mean())}\")\n",
    "print(f\"Score for logistic: {abs(test['price'].mean() - P['logistic'].mean())}\")\n",
    "print(f\"Score for catboost: {abs(test['price'].mean() - P['catboost'].mean())}\")"
   ]
  },
  {
   "cell_type": "code",
   "execution_count": 35,
   "metadata": {},
   "outputs": [
    {
     "name": "stdout",
     "output_type": "stream",
     "text": [
      "Score for ensemble: svm              15406.335083\n",
      "knn              13484.564465\n",
      "naive bayes       2095.863370\n",
      "mlp-nn            7972.863370\n",
      "random forest     4711.786114\n",
      "logistic          1508.899516\n",
      "catboost           215.110857\n",
      "dtype: float64\n"
     ]
    }
   ],
   "source": [
    "# Ensemble of all\n",
    "print(f\"Score for ensemble: {abs(test['price'].mean() - P.mean())}\")"
   ]
  },
  {
   "cell_type": "code",
   "execution_count": null,
   "metadata": {},
   "outputs": [],
   "source": []
  }
 ],
 "metadata": {
  "kernelspec": {
   "display_name": "Python 3",
   "language": "python",
   "name": "python3"
  },
  "language_info": {
   "codemirror_mode": {
    "name": "ipython",
    "version": 3
   },
   "file_extension": ".py",
   "mimetype": "text/x-python",
   "name": "python",
   "nbconvert_exporter": "python",
   "pygments_lexer": "ipython3",
   "version": "3.7.4"
  }
 },
 "nbformat": 4,
 "nbformat_minor": 2
}
