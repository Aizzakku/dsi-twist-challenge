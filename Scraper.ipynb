{
 "cells": [
  {
   "cell_type": "code",
   "execution_count": 1,
   "metadata": {},
   "outputs": [],
   "source": [
    "from bs4 import BeautifulSoup\n",
    "import requests"
   ]
  },
  {
   "cell_type": "code",
   "execution_count": 2,
   "metadata": {},
   "outputs": [],
   "source": [
    "import csv\n",
    "csv_file = open('property24_scrape.csv', 'w')\n",
    "\n",
    "csv_writer = csv.writer(csv_file)\n",
    "csv_writer.writerow(['id', 'location', 'bathrooms', 'bedrooms', 'parking' , 'size', 'agent', 'price'])\n",
    "base_url = 'https://www.property24.com/houses-for-sale/cape-town/western-cape/432'"
   ]
  },
  {
   "cell_type": "code",
   "execution_count": 3,
   "metadata": {},
   "outputs": [],
   "source": [
    "id = 0\n",
    "for page in range(2, 152):\n",
    "    source = requests.get(f\"{base_url}/p{page}\").text\n",
    "    soup = soup = BeautifulSoup(source, 'lxml')\n",
    "    \n",
    "    for content in soup.find_all('span', class_='p24_content'):\n",
    "        id += 1\n",
    "        price = content.find('span', class_='p24_price').text\n",
    "        price = price.replace('R', '')\n",
    "        price = price.replace(' ', '')\n",
    "        price = price.strip()\n",
    "        try:\n",
    "            price = int(price)\n",
    "        except Exception as e:\n",
    "            price = None\n",
    "        location = content.find('span', class_='p24_location').text\n",
    "        if content.find('span', title='Bedrooms'):\n",
    "            bedrooms = content.find('span', title='Bedrooms').text\n",
    "            bedrooms = float(bedrooms)\n",
    "        else:\n",
    "            bedrooms = None\n",
    "        if content.find('span', title='Bathrooms'):\n",
    "            bathrooms = content.find('span', title='Bathrooms').text\n",
    "            bathrooms = float(bathrooms)\n",
    "        else:\n",
    "            bathrooms = None\n",
    "        if content.find('span', title='Parking Spaces'):\n",
    "            parking = content.find('span', title='Parking Spaces').text\n",
    "            parking = float(parking)\n",
    "        else:\n",
    "            parking = None\n",
    "        if content.find('span', title='Erf Size'):\n",
    "            size = content.find('span', title='Erf Size').text\n",
    "            size = size.replace('m²', '')\n",
    "            size = int(''.join(filter(str.isdigit, size)))\n",
    "        else:\n",
    "            size = None\n",
    "        if content.img:\n",
    "            agent = content.img['alt']\n",
    "            agent = agent.strip()\n",
    "        else:\n",
    "            agent = None\n",
    "        csv_writer.writerow([id, location, bathrooms, bedrooms, parking , size, agent, price])\n",
    "csv_file.close()"
   ]
  },
  {
   "cell_type": "code",
   "execution_count": 4,
   "metadata": {},
   "outputs": [],
   "source": [
    "import csv\n",
    "csv_file = open('property24_train.csv', 'w')\n",
    "\n",
    "csv_writer = csv.writer(csv_file)\n",
    "csv_writer.writerow(['id', 'location', 'bathrooms', 'bedrooms', 'parking' , 'size', 'agent', 'price'])\n",
    "base_url = 'https://www.property24.com/houses-for-sale/cape-town/western-cape/432'"
   ]
  },
  {
   "cell_type": "code",
   "execution_count": 5,
   "metadata": {},
   "outputs": [],
   "source": [
    "id = 0\n",
    "for page in range(2, 101):\n",
    "    source = requests.get(f\"{base_url}/p{page}\").text\n",
    "    soup = soup = BeautifulSoup(source, 'lxml')\n",
    "    \n",
    "    for content in soup.find_all('span', class_='p24_content'):\n",
    "        id += 1\n",
    "        price = content.find('span', class_='p24_price').text\n",
    "        price = price.replace('R', '')\n",
    "        price = price.replace(' ', '')\n",
    "        price = price.strip()\n",
    "        try:\n",
    "            price = int(price)\n",
    "        except Exception as e:\n",
    "            price = None\n",
    "        location = content.find('span', class_='p24_location').text\n",
    "        if content.find('span', title='Bedrooms'):\n",
    "            bedrooms = content.find('span', title='Bedrooms').text\n",
    "            bedrooms = float(bedrooms)\n",
    "        else:\n",
    "            bedrooms = None\n",
    "        if content.find('span', title='Bathrooms'):\n",
    "            bathrooms = content.find('span', title='Bathrooms').text\n",
    "            bathrooms = float(bathrooms)\n",
    "        else:\n",
    "            bathrooms = None\n",
    "        if content.find('span', title='Parking Spaces'):\n",
    "            parking = content.find('span', title='Parking Spaces').text\n",
    "            parking = float(parking)\n",
    "        else:\n",
    "            parking = None\n",
    "        if content.find('span', title='Erf Size'):\n",
    "            size = content.find('span', title='Erf Size').text\n",
    "            size = size.replace('m²', '')\n",
    "            size = int(''.join(filter(str.isdigit, size)))\n",
    "        else:\n",
    "            size = None\n",
    "        if content.img:\n",
    "            agent = content.img['alt']\n",
    "            agent = agent.strip()\n",
    "        else:\n",
    "            agent = None\n",
    "        csv_writer.writerow([id, location, bathrooms, bedrooms, parking , size, agent, price])\n",
    "csv_file.close()"
   ]
  },
  {
   "cell_type": "code",
   "execution_count": 6,
   "metadata": {},
   "outputs": [],
   "source": [
    "import csv\n",
    "csv_file = open('property24_test.csv', 'w')\n",
    "\n",
    "csv_writer = csv.writer(csv_file)\n",
    "csv_writer.writerow(['id', 'location', 'bathrooms', 'bedrooms', 'parking' , 'size', 'agent', 'price'])\n",
    "base_url = 'https://www.property24.com/houses-for-sale/cape-town/western-cape/432'"
   ]
  },
  {
   "cell_type": "code",
   "execution_count": 7,
   "metadata": {},
   "outputs": [],
   "source": [
    "id = 0\n",
    "for page in range(101, 152):\n",
    "    source = requests.get(f\"{base_url}/p{page}\").text\n",
    "    soup = soup = BeautifulSoup(source, 'lxml')\n",
    "    \n",
    "    for content in soup.find_all('span', class_='p24_content'):\n",
    "        id += 1\n",
    "        price = content.find('span', class_='p24_price').text\n",
    "        price = price.replace('R', '')\n",
    "        price = price.replace(' ', '')\n",
    "        price = price.strip()\n",
    "        try:\n",
    "            price = int(price)\n",
    "        except Exception as e:\n",
    "            price = None\n",
    "        location = content.find('span', class_='p24_location').text\n",
    "        if content.find('span', title='Bedrooms'):\n",
    "            bedrooms = content.find('span', title='Bedrooms').text\n",
    "            bedrooms = float(bedrooms)\n",
    "        else:\n",
    "            bedrooms = None\n",
    "        if content.find('span', title='Bathrooms'):\n",
    "            bathrooms = content.find('span', title='Bathrooms').text\n",
    "            bathrooms = float(bathrooms)\n",
    "        else:\n",
    "            bathrooms = None\n",
    "        if content.find('span', title='Parking Spaces'):\n",
    "            parking = content.find('span', title='Parking Spaces').text\n",
    "            parking = float(parking)\n",
    "        else:\n",
    "            parking = None\n",
    "        if content.find('span', title='Erf Size'):\n",
    "            size = content.find('span', title='Erf Size').text\n",
    "            size = size.replace('m²', '')\n",
    "            size = int(''.join(filter(str.isdigit, size)))\n",
    "        else:\n",
    "            size = None\n",
    "        if content.img:\n",
    "            agent = content.img['alt']\n",
    "            agent = agent.strip()\n",
    "        else:\n",
    "            agent = None\n",
    "        csv_writer.writerow([id, location, bathrooms, bedrooms, parking , size, agent, price])\n",
    "csv_file.close()"
   ]
  },
  {
   "cell_type": "code",
   "execution_count": 8,
   "metadata": {},
   "outputs": [
    {
     "data": {
      "text/plain": [
       "'23'"
      ]
     },
     "execution_count": 8,
     "metadata": {},
     "output_type": "execute_result"
    }
   ],
   "source": [
    "'2 3'.replace(' ', '')"
   ]
  },
  {
   "cell_type": "code",
   "execution_count": null,
   "metadata": {},
   "outputs": [],
   "source": []
  }
 ],
 "metadata": {
  "kernelspec": {
   "display_name": "Python 3",
   "language": "python",
   "name": "python3"
  },
  "language_info": {
   "codemirror_mode": {
    "name": "ipython",
    "version": 3
   },
   "file_extension": ".py",
   "mimetype": "text/x-python",
   "name": "python",
   "nbconvert_exporter": "python",
   "pygments_lexer": "ipython3",
   "version": "3.7.4"
  }
 },
 "nbformat": 4,
 "nbformat_minor": 2
}
